{
 "cells": [
  {
   "cell_type": "code",
   "execution_count": 1,
   "id": "64ad35d4",
   "metadata": {},
   "outputs": [
    {
     "name": "stdout",
     "output_type": "stream",
     "text": [
      "[2, 3, 5, 7, 11, 13, 17, 19, 23, 29, 31, 37, 41, 43, 47, 53, 59, 61, 67, 71, 73, 79, 83, 89, 97]\n"
     ]
    },
    {
     "data": {
      "text/plain": [
       "['.git',\n",
       " '1.1_JupitierNotebook (1).ipynb',\n",
       " '1.3_NumPy.ipynb',\n",
       " '1_Esercizi.ipynb',\n",
       " '2.1_NumPy2.ipynb',\n",
       " 'data.csv',\n",
       " 'first_jup.ipynb',\n",
       " 'ms-vscode.cpptools-extension-pack-1.3.1.vsix']"
      ]
     },
     "execution_count": 1,
     "metadata": {},
     "output_type": "execute_result"
    }
   ],
   "source": [
    "def primo(n):\n",
    "    if n==2:\n",
    "        return True\n",
    "    if n<=1:\n",
    "        return False\n",
    "    for i in range(2,n-1):\n",
    "        if(n%i==0):\n",
    "            return False\n",
    "    return True\n",
    "\n",
    "#print([n for n in range(100) if primo(n)])\n",
    "print([n for n in range(2, 100) if all(n % i != 0 for i in range(2, int(n/2) + 1))])\n",
    "import numpy as np\n",
    "import os\n",
    "os.getcwd()\n",
    "os.listdir('c:\\\\Users\\\\kasse\\\\Documents\\\\Python_lab_2')"
   ]
  },
  {
   "cell_type": "code",
   "execution_count": 139,
   "id": "5f323473",
   "metadata": {},
   "outputs": [
    {
     "name": "stdout",
     "output_type": "stream",
     "text": [
      "[['1949-01', '112'], ['1949-02', '118'], ['1949-03', '132'], ['1949-04', '129']]\n"
     ]
    }
   ],
   "source": [
    "import csv\n",
    "list_data = []\n",
    "with open(\"data.csv\", \"r\") as file:\n",
    "    content = file.read()\n",
    "    line = csv.reader(content.strip().split(\"\\n\"))\n",
    "    for riga in line:\n",
    "        # print(riga[0])\n",
    "        if riga[0] != 'date':\n",
    "            list_data.append(riga)\n",
    "\n",
    "print(list_data)"
   ]
  },
  {
   "cell_type": "code",
   "execution_count": 140,
   "id": "bafc53e1",
   "metadata": {},
   "outputs": [
    {
     "name": "stdout",
     "output_type": "stream",
     "text": [
      "Package                 Version\n",
      "----------------------- -----------\n",
      "aiohappyeyeballs        2.6.1\n",
      "aiohttp                 3.11.16\n",
      "aiosignal               1.3.2\n",
      "asttokens               3.0.0\n",
      "attrs                   25.3.0\n",
      "certifi                 2025.1.31\n",
      "charset-normalizer      3.4.1\n",
      "colorama                0.4.6\n",
      "comm                    0.2.2\n",
      "contourpy               1.3.1\n",
      "cycler                  0.12.1\n",
      "datasets                3.5.0\n",
      "debugpy                 1.8.13\n",
      "decorator               5.2.1\n",
      "dill                    0.3.8\n",
      "executing               2.2.0\n",
      "filelock                3.18.0\n",
      "fonttools               4.57.0\n",
      "frozenlist              1.5.0\n",
      "fsspec                  2024.12.0\n",
      "huggingface-hub         0.30.2\n",
      "idna                    3.10\n",
      "ipykernel               6.29.5\n",
      "ipython                 9.0.2\n",
      "ipython_pygments_lexers 1.1.1\n",
      "jedi                    0.19.2\n",
      "jupyter_client          8.6.3\n",
      "jupyter_core            5.7.2\n",
      "kiwisolver              1.4.8\n",
      "matplotlib              3.10.1\n",
      "matplotlib-inline       0.1.7\n",
      "multidict               6.4.2\n",
      "multiprocess            0.70.16\n",
      "nest-asyncio            1.6.0\n",
      "numpy                   2.2.4\n",
      "packaging               24.2\n",
      "pandas                  2.2.3\n",
      "parso                   0.8.4\n",
      "pillow                  11.1.0\n",
      "pip                     25.0.1\n",
      "platformdirs            4.3.6\n",
      "prompt_toolkit          3.0.50\n",
      "propcache               0.3.1\n",
      "psutil                  7.0.0\n",
      "pure_eval               0.2.3\n",
      "pyarrow                 19.0.1\n",
      "Pygments                2.19.1\n",
      "pyparsing               3.2.3\n",
      "python-dateutil         2.9.0.post0\n",
      "pytz                    2025.1\n",
      "pywin32                 309\n",
      "PyYAML                  6.0.2\n",
      "pyzmq                   26.3.0\n",
      "requests                2.32.3\n",
      "seaborn                 0.13.2\n",
      "six                     1.17.0\n",
      "stack-data              0.6.3\n",
      "tornado                 6.4.2\n",
      "tqdm                    4.67.1\n",
      "traitlets               5.14.3\n",
      "typing_extensions       4.13.1\n",
      "tzdata                  2025.1\n",
      "urllib3                 2.3.0\n",
      "wcwidth                 0.2.13\n",
      "xxhash                  3.5.0\n",
      "yarl                    1.19.0\n",
      "Note: you may need to restart the kernel to use updated packages.\n"
     ]
    }
   ],
   "source": [
    "import pandas as pd\n",
    "\n",
    "df = pd.read_csv(\"data.csv\")\n",
    "%pip list"
   ]
  },
  {
   "cell_type": "code",
   "execution_count": 167,
   "id": "39f0a80f",
   "metadata": {},
   "outputs": [
    {
     "data": {
      "text/plain": [
       "array([[1, 2],\n",
       "       [3, 4]])"
      ]
     },
     "execution_count": 167,
     "metadata": {},
     "output_type": "execute_result"
    }
   ],
   "source": [
    "c = np.array([[1,2,3], [4,5,6]])\n",
    "c.shape\n",
    "a = np.array([1,2,3,4,5])\n",
    "a.shape\n",
    "a.sum()\n",
    "c,c.mean(axis=1)\n",
    "A = np.array([[1, 2], [3, 4]])\n",
    "B = np.array([[5, 6], [7, 8]])\n",
    "H1 = A.transpose()\n",
    "H2 = A.T\n",
    "# print(A,\"\\n H1:\", H1,\"\\n H2:\", H2)\n",
    "A"
   ]
  }
 ],
 "metadata": {
  "kernelspec": {
   "display_name": "Python 3",
   "language": "python",
   "name": "python3"
  },
  "language_info": {
   "codemirror_mode": {
    "name": "ipython",
    "version": 3
   },
   "file_extension": ".py",
   "mimetype": "text/x-python",
   "name": "python",
   "nbconvert_exporter": "python",
   "pygments_lexer": "ipython3",
   "version": "3.13.2"
  }
 },
 "nbformat": 4,
 "nbformat_minor": 5
}
