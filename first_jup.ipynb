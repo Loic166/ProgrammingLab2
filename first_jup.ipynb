{
 "cells": [
  {
   "cell_type": "code",
   "execution_count": 1,
   "id": "64ad35d4",
   "metadata": {},
   "outputs": [
    {
     "name": "stdout",
     "output_type": "stream",
     "text": [
      "[2, 3, 5, 7, 11, 13, 17, 19, 23, 29, 31, 37, 41, 43, 47, 53, 59, 61, 67, 71, 73, 79, 83, 89, 97]\n"
     ]
    },
    {
     "data": {
      "text/plain": [
       "['.git',\n",
       " '1.1_JupitierNotebook (1).ipynb',\n",
       " '1.3_NumPy.ipynb',\n",
       " '1_Esercizi.ipynb',\n",
       " '2.1_NumPy2.ipynb',\n",
       " 'data.csv',\n",
       " 'first_jup.ipynb',\n",
       " 'ms-vscode.cpptools-extension-pack-1.3.1.vsix']"
      ]
     },
     "execution_count": 1,
     "metadata": {},
     "output_type": "execute_result"
    }
   ],
   "source": [
    "def primo(n):\n",
    "    if n==2:\n",
    "        return True\n",
    "    if n<=1:\n",
    "        return False\n",
    "    for i in range(2,n-1):\n",
    "        if(n%i==0):\n",
    "            return False\n",
    "    return True\n",
    "\n",
    "#print([n for n in range(100) if primo(n)])\n",
    "print([n for n in range(2, 100) if all(n % i != 0 for i in range(2, int(n/2) + 1))])\n",
    "import numpy as np\n",
    "import os\n",
    "os.getcwd()\n",
    "os.listdir('c:\\\\Users\\\\kasse\\\\Documents\\\\Python_lab_2')"
   ]
  },
  {
   "cell_type": "code",
   "execution_count": 139,
   "id": "5f323473",
   "metadata": {},
   "outputs": [
    {
     "name": "stdout",
     "output_type": "stream",
     "text": [
      "[['1949-01', '112'], ['1949-02', '118'], ['1949-03', '132'], ['1949-04', '129']]\n"
     ]
    }
   ],
   "source": [
    "import csv\n",
    "list_data = []\n",
    "with open(\"data.csv\", \"r\") as file:\n",
    "    content = file.read()\n",
    "    line = csv.reader(content.strip().split(\"\\n\"))\n",
    "    for riga in line:\n",
    "        # print(riga[0])\n",
    "        if riga[0] != 'date':\n",
    "            list_data.append(riga)\n",
    "\n",
    "print(list_data)"
   ]
  },
  {
   "cell_type": "code",
   "execution_count": 140,
   "id": "bafc53e1",
   "metadata": {},
   "outputs": [
    {
     "name": "stdout",
     "output_type": "stream",
     "text": [
      "Package                 Version\n",
      "----------------------- -----------\n",
      "aiohappyeyeballs        2.6.1\n",
      "aiohttp                 3.11.16\n",
      "aiosignal               1.3.2\n",
      "asttokens               3.0.0\n",
      "attrs                   25.3.0\n",
      "certifi                 2025.1.31\n",
      "charset-normalizer      3.4.1\n",
      "colorama                0.4.6\n",
      "comm                    0.2.2\n",
      "contourpy               1.3.1\n",
      "cycler                  0.12.1\n",
      "datasets                3.5.0\n",
      "debugpy                 1.8.13\n",
      "decorator               5.2.1\n",
      "dill                    0.3.8\n",
      "executing               2.2.0\n",
      "filelock                3.18.0\n",
      "fonttools               4.57.0\n",
      "frozenlist              1.5.0\n",
      "fsspec                  2024.12.0\n",
      "huggingface-hub         0.30.2\n",
      "idna                    3.10\n",
      "ipykernel               6.29.5\n",
      "ipython                 9.0.2\n",
      "ipython_pygments_lexers 1.1.1\n",
      "jedi                    0.19.2\n",
      "jupyter_client          8.6.3\n",
      "jupyter_core            5.7.2\n",
      "kiwisolver              1.4.8\n",
      "matplotlib              3.10.1\n",
      "matplotlib-inline       0.1.7\n",
      "multidict               6.4.2\n",
      "multiprocess            0.70.16\n",
      "nest-asyncio            1.6.0\n",
      "numpy                   2.2.4\n",
      "packaging               24.2\n",
      "pandas                  2.2.3\n",
      "parso                   0.8.4\n",
      "pillow                  11.1.0\n",
      "pip                     25.0.1\n",
      "platformdirs            4.3.6\n",
      "prompt_toolkit          3.0.50\n",
      "propcache               0.3.1\n",
      "psutil                  7.0.0\n",
      "pure_eval               0.2.3\n",
      "pyarrow                 19.0.1\n",
      "Pygments                2.19.1\n",
      "pyparsing               3.2.3\n",
      "python-dateutil         2.9.0.post0\n",
      "pytz                    2025.1\n",
      "pywin32                 309\n",
      "PyYAML                  6.0.2\n",
      "pyzmq                   26.3.0\n",
      "requests                2.32.3\n",
      "seaborn                 0.13.2\n",
      "six                     1.17.0\n",
      "stack-data              0.6.3\n",
      "tornado                 6.4.2\n",
      "tqdm                    4.67.1\n",
      "traitlets               5.14.3\n",
      "typing_extensions       4.13.1\n",
      "tzdata                  2025.1\n",
      "urllib3                 2.3.0\n",
      "wcwidth                 0.2.13\n",
      "xxhash                  3.5.0\n",
      "yarl                    1.19.0\n",
      "Note: you may need to restart the kernel to use updated packages.\n"
     ]
    }
   ],
   "source": [
    "import pandas as pd\n",
    "\n",
    "df = pd.read_csv(\"data.csv\")\n",
    "%pip list"
   ]
  },
  {
   "cell_type": "code",
   "execution_count": 168,
   "id": "39f0a80f",
   "metadata": {},
   "outputs": [
    {
     "data": {
      "text/plain": [
       "array([[1, 2],\n",
       "       [3, 4]])"
      ]
     },
     "execution_count": 168,
     "metadata": {},
     "output_type": "execute_result"
    }
   ],
   "source": [
    "c = np.array([[1,2,3], [4,5,6]])\n",
    "c.shape\n",
    "a = np.array([1,2,3,4,5])\n",
    "a.shape\n",
    "a.sum()\n",
    "c,c.mean(axis=1)\n",
    "A = np.array([[1, 2], [3, 4]])\n",
    "B = np.array([[5, 6], [7, 8]])\n",
    "H1 = A.transpose()\n",
    "H2 = A.T\n",
    "# print(A,\"\\n H1:\", H1,\"\\n H2:\", H2)\n",
    "A"
   ]
  },
  {
   "cell_type": "code",
   "execution_count": 34,
   "id": "2d8a4cf6",
   "metadata": {},
   "outputs": [],
   "source": [
    "import pandas as pd\n",
    "import numpy as np\n",
    "import matplotlib.pyplot as plt\n",
    "\n",
    "def cammino(n, N):\n",
    "    passi_iniziali = np.zeros((N,1))\n",
    "    matrice_passi = np.random.choice([1,-1], size=(N,n))\n",
    "    posizioni = np.cumsum(matrice_passi, axis=1)\n",
    "    posizioni = np.hstack((passi_iniziali, posizioni))\n",
    "    mean_position = np.mean(posizioni, axis= 0)\n",
    "    std_position = np.std(posizioni, axis=0)\n",
    "    return mean_position, std_position\n",
    "\n",
    "mean, std = cammino(n=100, N=50)"
   ]
  },
  {
   "cell_type": "code",
   "execution_count": 35,
   "id": "dffd18d8",
   "metadata": {},
   "outputs": [
    {
     "data": {
      "image/png": "[encoded data removed]",
      "text/plain": [
       "<Figure size 640x480 with 1 Axes>"
      ]
     },
     "metadata": {},
     "output_type": "display_data"
    }
   ],
   "source": [
    "import matplotlib.pyplot as plt\n",
    "plt.plot(mean, label= \"Media dei passi\")\n",
    "plt.plot(std, label= \"Deviazione standard dei passi\")\n",
    "plt.legend()\n",
    "plt.title(\"Random Walk 1D - Moyenne et Écart-type\")\n",
    "plt.xlabel(\"passi\")\n",
    "plt.ylabel(\"posizione\")\n",
    "plt.show()\n",
    "\n"
   ]
  },
  {
   "cell_type": "code",
   "execution_count": 51,
   "id": "5026cad4",
   "metadata": {},
   "outputs": [
    {
     "name": "stdout",
     "output_type": "stream",
     "text": [
      "[[-1.32045661  0.52194157  0.29698467  0.25049285  0.34644821 -0.68002472\n",
      "   0.2322537   0.29307247 -0.71435142]\n",
      " [ 1.86577451  0.47383292 -1.1913035   0.65655361 -0.97468167  0.7870846\n",
      "   1.15859558 -0.82068232  0.96337613]\n",
      " [ 0.41278093  0.82206016  1.89679298 -0.24538812 -0.75373616 -0.88951443\n",
      "  -0.81581028 -0.07710171  0.34115197]\n",
      " [ 0.2766908   0.82718325  0.01300189  1.45353408 -0.26465683  2.72016917\n",
      "   0.62566735 -0.85715756 -1.0708925 ]\n",
      " [ 0.48247242 -0.22346279  0.71400049  0.47323762 -0.07282891 -0.84679372\n",
      "  -1.51484722 -0.44651495  0.85639879]]\n"
     ]
    },
    {
     "data": {
      "text/plain": [
       "array([ 0.2322537 ,  0.47383292, -0.07710171,  0.01300189, -0.07282891])"
      ]
     },
     "execution_count": 51,
     "metadata": {},
     "output_type": "execute_result"
    }
   ],
   "source": [
    "# Genera un array a di dimensioni 5 x 9 contenente numeri da una distribuzione gaussiana con media 0 e dev standard 1.\n",
    "# Per ogni riga, seleziona il numero più vicino a 0.1. Imposta il seed per la riproducibilità np.random.seed(42)\n",
    "# Suggerimento: per ottenere a[i, j], l'array i deve contenere gli indici di riga corrispondenti agli elementi in j.\n",
    "\n",
    "import numpy as np\n",
    "\n",
    "# np.random.seed(42)\n",
    "mat = np.random.normal(loc=0, scale=1, size=(5,9))\n",
    "print(mat)\n",
    "dist = np.abs(mat - .1)\n",
    "indice = np.argmin(dist, axis=1)\n",
    "row = np.arange(5)\n",
    "mat[row, indice]"
   ]
  },
  {
   "cell_type": "code",
   "execution_count": 81,
   "id": "57d0f2c6",
   "metadata": {},
   "outputs": [
    {
     "data": {
      "text/plain": [
       "<bound method NDFrame.head of      PassengerId  Survived  Pclass  \\\n",
       "0              1         0       3   \n",
       "1              2         1       1   \n",
       "2              3         1       3   \n",
       "3              4         1       1   \n",
       "4              5         0       3   \n",
       "..           ...       ...     ...   \n",
       "886          887         0       2   \n",
       "887          888         1       1   \n",
       "888          889         0       3   \n",
       "889          890         1       1   \n",
       "890          891         0       3   \n",
       "\n",
       "                                                  Name     Sex   Age  SibSp  \\\n",
       "0                              Braund, Mr. Owen Harris    male  22.0      1   \n",
       "1    Cumings, Mrs. John Bradley (Florence Briggs Th...  female  38.0      1   \n",
       "2                               Heikkinen, Miss. Laina  female  26.0      0   \n",
       "3         Futrelle, Mrs. Jacques Heath (Lily May Peel)  female  35.0      1   \n",
       "4                             Allen, Mr. William Henry    male  35.0      0   \n",
       "..                                                 ...     ...   ...    ...   \n",
       "886                              Montvila, Rev. Juozas    male  27.0      0   \n",
       "887                       Graham, Miss. Margaret Edith  female  19.0      0   \n",
       "888           Johnston, Miss. Catherine Helen \"Carrie\"  female   NaN      1   \n",
       "889                              Behr, Mr. Karl Howell    male  26.0      0   \n",
       "890                                Dooley, Mr. Patrick    male  32.0      0   \n",
       "\n",
       "     Parch            Ticket     Fare Cabin Embarked Fare_safe  family_index  \n",
       "0        0         A/5 21171   7.2500   NaN        S      7.25      0.137931  \n",
       "1        0          PC 17599  71.2833   C85        C   71.2833      0.014029  \n",
       "2        0  STON/O2. 3101282   7.9250   NaN        S     7.925      0.000000  \n",
       "3        0            113803  53.1000  C123        S      53.1      0.018832  \n",
       "4        0            373450   8.0500   NaN        S      8.05      0.000000  \n",
       "..     ...               ...      ...   ...      ...       ...           ...  \n",
       "886      0            211536  13.0000   NaN        S      13.0      0.000000  \n",
       "887      0            112053  30.0000   B42        S      30.0      0.000000  \n",
       "888      2        W./C. 6607  23.4500   NaN        S     23.45      0.127932  \n",
       "889      0            111369  30.0000  C148        C      30.0      0.000000  \n",
       "890      0            370376   7.7500   NaN        Q      7.75      0.000000  \n",
       "\n",
       "[891 rows x 14 columns]>"
      ]
     },
     "execution_count": 81,
     "metadata": {},
     "output_type": "execute_result"
    }
   ],
   "source": [
    "import pandas as pd\n",
    "\n",
    "dataset = pd.read_csv(\"titanic.csv\")\n",
    "#1.\n",
    "dataset.Fare.head(10)\n",
    "#2 medie\n",
    "np.mean(dataset.Age)\n",
    "np.mean(dataset.Fare)\n",
    "np.mean(dataset.SibSp)\n",
    "\n",
    "family_index = (dataset.SibSp+dataset.Parch)/dataset.Fare\n",
    "# np.hstack((dataset, family_index))\n",
    "family_index\n",
    "# dataset.describe\n",
    "top10_fare = dataset.sort_values(by=\"Fare\", ascending=False).head(10)\n",
    "\n",
    "dataset[\"Fare_safe\"] = dataset[\"Fare\"].replace(0, pd.NA)\n",
    "dataset[\"family_index\"] = (dataset[\"SibSp\"] + dataset[\"Parch\"])/dataset[\"Fare\"]\n",
    "dataset.head"
   ]
  }
 ],
 "metadata": {
  "kernelspec": {
   "display_name": "Python 3",
   "language": "python",
   "name": "python3"
  },
  "language_info": {
   "codemirror_mode": {
    "name": "ipython",
    "version": 3
   },
   "file_extension": ".py",
   "mimetype": "text/x-python",
   "name": "python",
   "nbconvert_exporter": "python",
   "pygments_lexer": "ipython3",
   "version": "3.13.2"
  }
 },
 "nbformat": 4,
 "nbformat_minor": 5
}
