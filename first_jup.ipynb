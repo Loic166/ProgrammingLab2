{
 "cells": [
  {
   "cell_type": "code",
   "execution_count": null,
   "id": "64ad35d4",
   "metadata": {},
   "outputs": [
    {
     "name": "stdout",
     "output_type": "stream",
     "text": [
      "[2, 3, 5, 7, 11, 13, 17, 19, 23, 29, 31, 37, 41, 43, 47, 53, 59, 61, 67, 71, 73, 79, 83, 89, 97]\n"
     ]
    },
    {
     "name": "stderr",
     "output_type": "stream",
     "text": [
      "UsageError: Line magic function `%%!ls` not found.\n"
     ]
    }
   ],
   "source": [
    "def primo(n):\n",
    "    if n==2:\n",
    "        return True\n",
    "    if n<=1:\n",
    "        return False\n",
    "    for i in range(2,n-1):\n",
    "        if(n%i==0):\n",
    "            return False\n",
    "    return True\n",
    "\n",
    "#print([n for n in range(100) if primo(n)])\n",
    "print([n for n in range(2, 100) if all(n % i != 0 for i in range(2, int(n/2) + 1))])\n",
    "import numpy as np\n",
    "import os\n",
    "os.getcwd()\n",
    "os.listdir('c:\\\\Users\\\\kasse\\\\Documents\\\\Python_lab_2')"
   ]
  },
  {
   "cell_type": "code",
   "execution_count": 127,
   "id": "5f323473",
   "metadata": {},
   "outputs": [
    {
     "name": "stdout",
     "output_type": "stream",
     "text": [
      "[['1949-01', '112'], ['1949-02', '118'], ['1949-03', '132'], ['1949-04', '129'], ['1949-05', '121'], ['1949-06', '135'], ['1949-07', '148'], ['1949-08', '148'], ['1949-09', '136'], ['1949-10', '119'], ['1949-11', '104'], ['1949-12', '118'], ['1950-01', '115'], ['1950-02', '126'], ['1950-03', '141'], ['1950-04', '135'], ['1950-05', '125'], ['1950-06', '149'], ['1950-07', '170'], ['1950-08', '170'], ['1950-09', '158'], ['1950-10', '133'], ['1950-11', '114'], ['1950-12', '140'], ['1951-01', '145'], ['1951-02', '150'], ['1951-03', '178'], ['1951-04', '163'], ['1951-05', '172'], ['1951-06', '178'], ['1951-07', '199'], ['1951-08', '199'], ['1951-09', '184'], ['1951-10', '162'], ['1951-11', '146'], ['1951-12', '166'], ['1952-01', '171'], ['1952-02', '180'], ['1952-03', '193'], ['1952-04', '181'], ['1952-05', '183'], ['1952-06', '218'], ['1952-07', '230'], ['1952-08', '242'], ['1952-09', '209'], ['1952-10', '191'], ['1952-11', '172'], ['1952-12', '194'], ['1953-01', '196'], ['1953-02', '196'], ['1953-03', '236'], ['1953-04', '235'], ['1953-05', '229'], ['1953-06', '243'], ['1953-07', '264'], ['1953-08', '272'], ['1953-09', '237'], ['1953-10', '211'], ['1953-11', '180'], ['1953-12', '201'], ['1955-01', '242'], ['1955-02', '233'], ['1955-03', '267'], ['1955-04', '269'], ['1955-05', '270'], ['1955-06', '315'], ['1955-07', '364'], ['1955-08', '347'], ['1955-09', '312'], ['1955-10', '274'], ['1955-11', '237'], ['1955-12', '278'], ['1956-01', '284'], ['1956-02', '277'], ['1956-03', '317'], ['1956-04', '313'], ['1956-05', '318'], ['1956-06', '374'], ['1956-07', '413'], ['1956-08', '405'], ['1956-09', '355'], ['1956-10', '306'], ['1956-11', '271'], ['1956-12', '306'], ['1957-01', '315'], ['1957-02', '301'], ['1957-03', '356'], ['1957-04', '348'], ['1957-05', '355'], ['1957-06', '422'], ['1957-07', '465'], ['1957-08', '467'], ['1957-09', '404'], ['1957-10', '347'], ['1957-11', '305'], ['1957-12', '336'], ['1958-01', '340'], ['1958-02', '318'], ['1958-03', '362'], ['1958-04', '348'], ['1958-05', '363'], ['1958-06', '435'], ['1958-07', '491'], ['1958-08', '505'], ['1958-09', '404'], ['1958-10', '359'], ['1958-11', '310'], ['1958-12', '337'], ['1959-01', '360'], ['1959-02', '342'], ['1959-03', '406'], ['1959-04', '396'], ['1959-05', '420'], ['1959-06', '472'], ['1959-07', '548'], ['1959-08', '559'], ['1959-09', '463'], ['1959-10', '407'], ['1959-11', '362'], ['1959-12', '405'], ['1960-01', '417'], ['1960-02', '391'], ['1960-03', '419'], ['1960-04', '461'], ['1960-05', '472'], ['1960-06', '535'], ['1960-07', '622'], ['1960-08', '606'], ['1960-09', '508'], ['1960-10', '461'], ['1960-11', ''], ['1960-12', '432']]\n"
     ]
    }
   ],
   "source": [
    "import csv\n",
    "list_data = []\n",
    "with open(\"data.csv\", \"r\") as file:\n",
    "    content = file.read()\n",
    "    line = csv.reader(content.strip().split(\"\\n\"))\n",
    "    for riga in line:\n",
    "        # print(riga[0])\n",
    "        if riga[0] != 'date':\n",
    "            list_data.append(riga)\n",
    "\n",
    "print(list_data)"
   ]
  },
  {
   "cell_type": "code",
   "execution_count": null,
   "id": "bafc53e1",
   "metadata": {},
   "outputs": [
    {
     "name": "stdout",
     "output_type": "stream",
     "text": [
      "Package                 Version\n",
      "----------------------- -----------\n",
      "aiohappyeyeballs        2.6.1\n",
      "aiohttp                 3.11.16\n",
      "aiosignal               1.3.2\n",
      "asttokens               3.0.0\n",
      "attrs                   25.3.0\n",
      "certifi                 2025.1.31\n",
      "charset-normalizer      3.4.1\n",
      "colorama                0.4.6\n",
      "comm                    0.2.2\n",
      "contourpy               1.3.1\n",
      "cycler                  0.12.1\n",
      "datasets                3.5.0\n",
      "debugpy                 1.8.13\n",
      "decorator               5.2.1\n",
      "dill                    0.3.8\n",
      "executing               2.2.0\n",
      "filelock                3.18.0\n",
      "fonttools               4.57.0\n",
      "frozenlist              1.5.0\n",
      "fsspec                  2024.12.0\n",
      "huggingface-hub         0.30.2\n",
      "idna                    3.10\n",
      "ipykernel               6.29.5\n",
      "ipython                 9.0.2\n",
      "ipython_pygments_lexers 1.1.1\n",
      "jedi                    0.19.2\n",
      "jupyter_client          8.6.3\n",
      "jupyter_core            5.7.2\n",
      "kiwisolver              1.4.8\n",
      "matplotlib              3.10.1\n",
      "matplotlib-inline       0.1.7\n",
      "multidict               6.4.2\n",
      "multiprocess            0.70.16\n",
      "nest-asyncio            1.6.0\n",
      "numpy                   2.2.4\n",
      "packaging               24.2\n",
      "pandas                  2.2.3\n",
      "parso                   0.8.4\n",
      "pillow                  11.1.0\n",
      "pip                     25.0.1\n",
      "platformdirs            4.3.6\n",
      "prompt_toolkit          3.0.50\n",
      "propcache               0.3.1\n",
      "psutil                  7.0.0\n",
      "pure_eval               0.2.3\n",
      "pyarrow                 19.0.1\n",
      "Pygments                2.19.1\n",
      "pyparsing               3.2.3\n",
      "python-dateutil         2.9.0.post0\n",
      "pytz                    2025.1\n",
      "pywin32                 309\n",
      "PyYAML                  6.0.2\n",
      "pyzmq                   26.3.0\n",
      "requests                2.32.3\n",
      "seaborn                 0.13.2\n",
      "six                     1.17.0\n",
      "stack-data              0.6.3\n",
      "tornado                 6.4.2\n",
      "tqdm                    4.67.1\n",
      "traitlets               5.14.3\n",
      "typing_extensions       4.13.1\n",
      "tzdata                  2025.1\n",
      "urllib3                 2.3.0\n",
      "wcwidth                 0.2.13\n",
      "xxhash                  3.5.0\n",
      "yarl                    1.19.0\n",
      "Note: you may need to restart the kernel to use updated packages.\n"
     ]
    }
   ],
   "source": [
    "import pandas as pd\n",
    "\n",
    "df = pd.read_csv(\"data.csv\")\n",
    "%pip list"
   ]
  }
 ],
 "metadata": {
  "kernelspec": {
   "display_name": "Python 3",
   "language": "python",
   "name": "python3"
  },
  "language_info": {
   "codemirror_mode": {
    "name": "ipython",
    "version": 3
   },
   "file_extension": ".py",
   "mimetype": "text/x-python",
   "name": "python",
   "nbconvert_exporter": "python",
   "pygments_lexer": "ipython3",
   "version": "3.13.2"
  }
 },
 "nbformat": 4,
 "nbformat_minor": 5
}
