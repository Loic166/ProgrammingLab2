{
 "cells": [
  {
   "cell_type": "markdown",
   "metadata": {
    "id": "KtHs7Rb9lDC0"
   },
   "source": [
    "# Jupyter Notebooks \n",
    "\n",
    "È una interfaccia che permette di scrivere, eseguire e condividere codice interattivo"
   ]
  },
  {
   "cell_type": "markdown",
   "metadata": {
    "id": "VBXhTX4cV-w0"
   },
   "source": [
    "## Aggiunta e spostamento delle celle\n",
    "\n",
    "Aggiungi nuove celle utilizzando i pulsanti **+ Code** e **+ Markdown**, che appaiono quando passi il mouse tra le celle.\n",
    "\n",
    "Puoi spostare una cella selezionandola col mouse e muovendoti su e giù col mouse o le option + frecce\n"
   ]
  },
  {
   "cell_type": "markdown",
   "metadata": {
    "id": "oYRz_DkflDC2"
   },
   "source": [
    "## Celle Markdown Cell vs. Celle Python"
   ]
  },
  {
   "cell_type": "markdown",
   "metadata": {
    "id": "YtHqbPyVlDC2"
   },
   "source": [
    "#### Esempio Markdown \n",
    "Questo è un testo Markdown"
   ]
  },
  {
   "cell_type": "markdown",
   "metadata": {
    "id": "RDvcZiK3YxBI"
   },
   "source": [
    "\n",
    "#### Python Example"
   ]
  },
  {
   "cell_type": "code",
   "execution_count": 3,
   "metadata": {
    "colab": {
     "base_uri": "https://localhost:8080/",
     "height": 35
    },
    "id": "NzpvOnLglDC2",
    "outputId": "30094308-dea4-4c0d-b88d-00502d1b0b24"
   },
   "outputs": [
    {
     "data": {
      "text/plain": [
       "'Questa è una cella python'"
      ]
     },
     "execution_count": 3,
     "metadata": {},
     "output_type": "execute_result"
    }
   ],
   "source": [
    "\"Questa è una cella python\""
   ]
  },
  {
   "cell_type": "markdown",
   "metadata": {
    "id": "E8vANqitlDC1"
   },
   "source": [
    "## Come eseguire una cella\n",
    "\n",
    "*Modo semplice:* Clicca il pulsante di esecuzione.\n",
    "\n",
    "*Modo avanzato:* Con la cella selezionata, premi **Cmd/Ctrl+Enter**.\n",
    "\n",
    "*Altri suggerimenti avanzati:*\n",
    "* Premi **Shift+Enter** per "
   ]
  },
  {
   "cell_type": "code",
   "execution_count": 7,
   "metadata": {
    "colab": {
     "base_uri": "https://localhost:8080/"
    },
    "id": "VUu7zqeslDC1",
    "outputId": "89a709a6-f825-4a13-89d7-e9e54ae99662"
   },
   "outputs": [
    {
     "data": {
      "text/plain": [
       "4"
      ]
     },
     "execution_count": 7,
     "metadata": {},
     "output_type": "execute_result"
    }
   ],
   "source": [
    "2 + 2"
   ]
  },
  {
   "cell_type": "markdown",
   "metadata": {
    "id": "en-IAd0ylDC2"
   },
   "source": [
    "## Note per Jupyter"
   ]
  },
  {
   "cell_type": "markdown",
   "metadata": {
    "id": "kMfjQfxYfoPI"
   },
   "source": [
    "Se hai più righe, solo l'ultima riga verrà mostrata.\n"
   ]
  },
  {
   "cell_type": "code",
   "execution_count": 19,
   "metadata": {
    "colab": {
     "base_uri": "https://localhost:8080/"
    },
    "id": "TDYU5xKafRMD",
    "outputId": "9939e8fb-788a-447e-d921-a2582f9bbf7e"
   },
   "outputs": [
    {
     "data": {
      "text/plain": [
       "'Ciaooo'"
      ]
     },
     "execution_count": 19,
     "metadata": {},
     "output_type": "execute_result"
    }
   ],
   "source": [
    "2 + 2\n",
    "\"Ciaooo\""
   ]
  },
  {
   "cell_type": "code",
   "execution_count": 22,
   "metadata": {},
   "outputs": [
    {
     "data": {
      "text/plain": [
       "(3, 'hi')"
      ]
     },
     "execution_count": 22,
     "metadata": {},
     "output_type": "execute_result"
    }
   ],
   "source": [
    "2 + 1, \"hi\""
   ]
  },
  {
   "cell_type": "code",
   "execution_count": 24,
   "metadata": {
    "colab": {
     "base_uri": "https://localhost:8080/"
    },
    "id": "Dn_qjN6Gf4ex",
    "outputId": "489d2ddd-20ed-4411-9e00-fa7a18c3f90f"
   },
   "outputs": [
    {
     "name": "stdout",
     "output_type": "stream",
     "text": [
      "2\n",
      "3\n",
      "Rs tu n'es rien\n"
     ]
    }
   ],
   "source": [
    "print(2 + 0)\n",
    "print(3 * 1)\n",
    "print(\"Rs tu n'es rien\")"
   ]
  },
  {
   "cell_type": "code",
   "execution_count": 18,
   "metadata": {
    "colab": {
     "base_uri": "https://localhost:8080/"
    },
    "id": "K9slvGiQgxUs",
    "outputId": "65f34568-6c38-407d-df12-3b81a28c3621"
   },
   "outputs": [
    {
     "name": "stdout",
     "output_type": "stream",
     "text": [
      "Ciaooo\n",
      "4\n",
      "9\n"
     ]
    }
   ],
   "source": [
    "# Questo è un commento come sempre\n",
    "\n",
    "print(\"Ciaooo\")\n",
    "print(2 + 2) # Anche questo\n",
    "print(3 * 3)"
   ]
  },
  {
   "cell_type": "markdown",
   "metadata": {
    "id": "5Dh7ROpkY0js"
   },
   "source": [
    "## Nozioni di base su Markdown\n",
    "\n",
    "Markdown è un linguaggio di markup leggero che utilizza caratteri come `#` per i titoli e `*` per l'enfasi, permettendo di formattare il testo in modo semplice e intuitivo.\n"
   ]
  },
  {
   "cell_type": "markdown",
   "metadata": {
    "id": "tlt-IiEoXL7K"
   },
   "source": [
    "| Element        | Markdown Syntax                        |\n",
    "|----------------|----------------------------------------|\n",
    "| Heading        | `# H1`<br>`## H2`<br>`### H3`          |\n",
    "| Bold           | `**bold text**`                        |\n",
    "| Italic         | `*italicized text*`                    |\n",
    "| Blockquote     | `> blockquote`                         |\n",
    "| Ordered List   | `1. First item`<br>`2. Second item`<br>`3. Third item` |\n",
    "| Unordered List | `- First item`<br>`- Second item`<br>`- Third item`   |\n",
    "| Code           | `` `code` ``                           |\n",
    "| Horizontal Rule| `---`                                  |\n",
    "| Link           | `[title](https://www.example.com)`     |\n",
    "| Image          | `![alt text](image.jpg)`               |\n",
    "\n",
    "[Here is a more info on Markdown](https://www.markdownguide.org/basic-syntax/)"
   ]
  },
  {
   "cell_type": "markdown",
   "metadata": {
    "id": "2bxBnWjmmAND"
   },
   "source": [
    "## Uso avanzato di Jupyter Notebook\n",
    "\n",
    "Iniziare una riga con uno dei seguenti simboli ha proprietà speciali.\n",
    "\n",
    "| Simbolo | Nome            | Esempio               | Spiegazione dell'uso                                                              |\n",
    "|---------|----------------|-----------------------|-----------------------------------------------------------------------------------|\n",
    "| `!`     | Comando Shell   | `!ls`                 | Esegue comandi della shell direttamente dalla cella del notebook, ad esempio elencare i file. |\n",
    "| `%`     | Magic Line      | `%cd sample_data`     | Esegue un comando magic su una singola riga, come cambiare directory.             |\n",
    "| `%%`    | Magic Cell      | `%%writefile test.txt` | Applica il comando magic all'intera cella, ad esempio scrivendo il contenuto della cella in un file. |\n"
   ]
  },
  {
   "cell_type": "code",
   "execution_count": 10,
   "metadata": {
    "colab": {
     "base_uri": "https://localhost:8080/"
    },
    "id": "OSsLjn-1hj3L",
    "outputId": "3fcf7176-2e78-4662-d57f-00986b0eaefe"
   },
   "outputs": [
    {
     "name": "stdout",
     "output_type": "stream",
     "text": [
      "c:\\Users\\kasse\\Documenti\\Projet_python\n",
      " Il volume nell'unit� C � Windows-SSD\n",
      " Numero di serie del volume: A6F6-17BF\n",
      "\n",
      " Directory di c:\\Users\\kasse\\Documenti\\Projet_python\n",
      "\n",
      "19/03/2025  18:05    <DIR>          .\n",
      "19/03/2025  10:19    <DIR>          ..\n",
      "12/03/2025  17:32    <DIR>          __pycache__\n",
      "19/03/2025  14:36           246.102 1.1_JupitierNotebook.ipynb\n",
      "12/03/2025  17:18             1.597 data.csv\n",
      "19/03/2025  18:11               612 file.md\n",
      "19/03/2025  16:25           228.751 Immagine WhatsApp 2025-03-19 ore 16.25.31_6df0e7f7.jpg\n",
      "19/03/2025  17:40             2.057 markdown.md\n",
      "19/03/2025  18:02             1.324 mon_fichier_markdown.md\n",
      "13/03/2025  12:42               148 test.py\n",
      "12/03/2025  17:22               190 test_somma.py\n",
      "14/03/2025  15:47               257 Untitled-1.ipynb\n",
      "13/03/2025  12:42               358 Untitled-2.ipynb\n",
      "              10 File        481.396 byte\n",
      "               3 Directory  322.365.632.512 byte disponibili\n"
     ]
    }
   ],
   "source": [
    "%cd  c:\\Users\\kasse\\Documenti\\Projet_python\n",
    "%ls"
   ]
  },
  {
   "cell_type": "code",
   "execution_count": 13,
   "metadata": {},
   "outputs": [
    {
     "data": {
      "text/plain": [
       "[0,\n",
       " 1,\n",
       " 4,\n",
       " 9,\n",
       " 16,\n",
       " 25,\n",
       " 36,\n",
       " 49,\n",
       " 64,\n",
       " 81,\n",
       " 100,\n",
       " 121,\n",
       " 144,\n",
       " 169,\n",
       " 196,\n",
       " 225,\n",
       " 256,\n",
       " 289,\n",
       " 324,\n",
       " 361,\n",
       " 400,\n",
       " 441,\n",
       " 484,\n",
       " 529,\n",
       " 576,\n",
       " 625,\n",
       " 676,\n",
       " 729,\n",
       " 784,\n",
       " 841,\n",
       " 900,\n",
       " 961,\n",
       " 1024,\n",
       " 1089,\n",
       " 1156,\n",
       " 1225,\n",
       " 1296,\n",
       " 1369,\n",
       " 1444,\n",
       " 1521,\n",
       " 1600,\n",
       " 1681,\n",
       " 1764,\n",
       " 1849,\n",
       " 1936,\n",
       " 2025,\n",
       " 2116,\n",
       " 2209,\n",
       " 2304,\n",
       " 2401,\n",
       " 2500,\n",
       " 2601,\n",
       " 2704,\n",
       " 2809,\n",
       " 2916,\n",
       " 3025,\n",
       " 3136,\n",
       " 3249,\n",
       " 3364,\n",
       " 3481,\n",
       " 3600,\n",
       " 3721,\n",
       " 3844,\n",
       " 3969,\n",
       " 4096,\n",
       " 4225,\n",
       " 4356,\n",
       " 4489,\n",
       " 4624,\n",
       " 4761,\n",
       " 4900,\n",
       " 5041,\n",
       " 5184,\n",
       " 5329,\n",
       " 5476,\n",
       " 5625,\n",
       " 5776,\n",
       " 5929,\n",
       " 6084,\n",
       " 6241,\n",
       " 6400,\n",
       " 6561,\n",
       " 6724,\n",
       " 6889,\n",
       " 7056,\n",
       " 7225,\n",
       " 7396,\n",
       " 7569,\n",
       " 7744,\n",
       " 7921,\n",
       " 8100,\n",
       " 8281,\n",
       " 8464,\n",
       " 8649,\n",
       " 8836,\n",
       " 9025,\n",
       " 9216,\n",
       " 9409,\n",
       " 9604,\n",
       " 9801,\n",
       " 10000,\n",
       " 10201,\n",
       " 10404,\n",
       " 10609,\n",
       " 10816,\n",
       " 11025,\n",
       " 11236,\n",
       " 11449,\n",
       " 11664,\n",
       " 11881,\n",
       " 12100,\n",
       " 12321,\n",
       " 12544,\n",
       " 12769,\n",
       " 12996,\n",
       " 13225,\n",
       " 13456,\n",
       " 13689,\n",
       " 13924,\n",
       " 14161,\n",
       " 14400,\n",
       " 14641,\n",
       " 14884,\n",
       " 15129,\n",
       " 15376,\n",
       " 15625,\n",
       " 15876,\n",
       " 16129,\n",
       " 16384,\n",
       " 16641,\n",
       " 16900,\n",
       " 17161,\n",
       " 17424,\n",
       " 17689,\n",
       " 17956,\n",
       " 18225,\n",
       " 18496,\n",
       " 18769,\n",
       " 19044,\n",
       " 19321,\n",
       " 19600,\n",
       " 19881,\n",
       " 20164,\n",
       " 20449,\n",
       " 20736,\n",
       " 21025,\n",
       " 21316,\n",
       " 21609,\n",
       " 21904,\n",
       " 22201,\n",
       " 22500,\n",
       " 22801,\n",
       " 23104,\n",
       " 23409,\n",
       " 23716,\n",
       " 24025,\n",
       " 24336,\n",
       " 24649,\n",
       " 24964,\n",
       " 25281,\n",
       " 25600,\n",
       " 25921,\n",
       " 26244,\n",
       " 26569,\n",
       " 26896,\n",
       " 27225,\n",
       " 27556,\n",
       " 27889,\n",
       " 28224,\n",
       " 28561,\n",
       " 28900,\n",
       " 29241,\n",
       " 29584,\n",
       " 29929,\n",
       " 30276,\n",
       " 30625,\n",
       " 30976,\n",
       " 31329,\n",
       " 31684,\n",
       " 32041,\n",
       " 32400,\n",
       " 32761,\n",
       " 33124,\n",
       " 33489,\n",
       " 33856,\n",
       " 34225,\n",
       " 34596,\n",
       " 34969,\n",
       " 35344,\n",
       " 35721,\n",
       " 36100,\n",
       " 36481,\n",
       " 36864,\n",
       " 37249,\n",
       " 37636,\n",
       " 38025,\n",
       " 38416,\n",
       " 38809,\n",
       " 39204,\n",
       " 39601]"
      ]
     },
     "execution_count": 13,
     "metadata": {},
     "output_type": "execute_result"
    }
   ],
   "source": [
    "#%timeit [n*n for n in range(200)]\n",
    "[n*n for n in range(200)]"
   ]
  },
  {
   "cell_type": "code",
   "execution_count": 14,
   "metadata": {
    "colab": {
     "base_uri": "https://localhost:8080/"
    },
    "id": "e7Ehl7eciGM3",
    "outputId": "d30ad0d5-263d-4937-f26d-aa31779f32a0"
   },
   "outputs": [
    {
     "name": "stdout",
     "output_type": "stream",
     "text": [
      "12.2 μs ± 1.02 μs per loop (mean ± std. dev. of 7 runs, 100,000 loops each)\n"
     ]
    }
   ],
   "source": [
    "%%timeit\n",
    "lista = []\n",
    "for n in range(200):\n",
    "    lista.append(n*n)"
   ]
  },
  {
   "cell_type": "markdown",
   "metadata": {},
   "source": [
    "Potete vedere le variabili salvate facilmente nella Juputer cella "
   ]
  },
  {
   "cell_type": "code",
   "execution_count": 16,
   "metadata": {},
   "outputs": [],
   "source": [
    "id_lavoro = 101\n",
    "nome_azienda = 'DataWiz Inc.'\n",
    "titolo_lavoro = 'Data Analyst'\n",
    "stipendio_lavoro = 125000\n",
    "lavoro_da_casa = True\n"
   ]
  }
 ],
 "metadata": {
  "colab": {
   "provenance": []
  },
  "kernelspec": {
   "display_name": "Python 3",
   "language": "python",
   "name": "python3"
  },
  "language_info": {
   "codemirror_mode": {
    "name": "ipython",
    "version": 3
   },
   "file_extension": ".py",
   "mimetype": "text/x-python",
   "name": "python",
   "nbconvert_exporter": "python",
   "pygments_lexer": "ipython3",
   "version": "3.13.2"
  }
 },
 "nbformat": 4,
 "nbformat_minor": 0
}
