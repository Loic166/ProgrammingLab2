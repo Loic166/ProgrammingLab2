{
 "cells": [
  {
   "cell_type": "markdown",
   "metadata": {},
   "source": [
    "### **1. Trasformare cicli in list comprehension**\n",
    "\n",
    "Fai tre esempi di cicli producono una lista e poi riscrivi lo stesso codice usando la list comprehension"
   ]
  },
  {
   "cell_type": "code",
   "execution_count": 3,
   "metadata": {},
   "outputs": [
    {
     "data": {
      "text/plain": [
       "([0, 1, 2, 3, 4, 5, 6, 7, 8, 9],\n",
       " [2,\n",
       "  3,\n",
       "  5,\n",
       "  7,\n",
       "  11,\n",
       "  13,\n",
       "  17,\n",
       "  19,\n",
       "  23,\n",
       "  29,\n",
       "  31,\n",
       "  37,\n",
       "  41,\n",
       "  43,\n",
       "  47,\n",
       "  53,\n",
       "  59,\n",
       "  61,\n",
       "  67,\n",
       "  71,\n",
       "  73,\n",
       "  79,\n",
       "  83,\n",
       "  89,\n",
       "  97],\n",
       " [1, 2, 3, 4, 5, 6, 7, 8])"
      ]
     },
     "execution_count": 3,
     "metadata": {},
     "output_type": "execute_result"
    }
   ],
   "source": [
    "lista1 = []\n",
    "for i in range(10):\n",
    "    lista1.append(i)\n",
    "lista1_list_comp = [n for n in range(10)]\n",
    "\n",
    "lista2 = []\n",
    "for n in range(2,100):\n",
    "    if all(n%i !=0 for i in range(2,n-1)):\n",
    "        lista2.append(n)\n",
    "lista2_list_comp = [n for n in range(2,100) if all(n%i !=0 for i in range(2,n-1))]\n",
    "\n",
    "lista3 = []\n",
    "for i in range(10):\n",
    "    if i%2 !=0:\n",
    "        lista3.append(i)\n",
    "lista3_list_comp = [n for n in range(10) if n%i !=0]\n",
    "\n",
    "lista1_list_comp, lista2_list_comp, lista3_list_comp"
   ]
  },
  {
   "cell_type": "markdown",
   "metadata": {},
   "source": [
    "### **2. Vettore di Numeri Primi**\n",
    "\n",
    "1. **Crea un vettore** contenente tutti i numeri primi compresi tra **0 e 10**  \n",
    "   _(Puoi scriverli direttamente nell'array)._\n",
    "\n",
    "2. **Conta quanti numeri ci sono nel vettore** utilizzando la funzione `len()`.  **Ottieni lo stesso numero** accedendo all'attributo `.size` del vettore.\n",
    "\n",
    "3. Quale pensi sia il tipo di dato (`dtype`) del vettore?  Prova a rispondere senza eseguire il codice e Verifica la tua risposta accedendo all'attributo `.dtype` del vettore\n",
    "\n",
    "4. Scrivi l'array usando una list comprehension che controlla che i numeri siano primi. "
   ]
  },
  {
   "cell_type": "code",
   "execution_count": 7,
   "metadata": {},
   "outputs": [
    {
     "data": {
      "text/plain": [
       "[2, 3, 5, 7]"
      ]
     },
     "execution_count": 7,
     "metadata": {},
     "output_type": "execute_result"
    }
   ],
   "source": [
    "import numpy as np\n",
    "#1\n",
    "num_primi = np.array([2,3,5,7])\n",
    "#2 \n",
    "len(num_primi), num_primi.size\n",
    "#3 il vettore è di tipo int\n",
    "num_primi.dtype\n",
    "#4\n",
    "lista = [n for n in range(2,10) if all(n%i !=0 for i in range(2,n-1))]\n",
    "lista\n"
   ]
  },
  {
   "cell_type": "markdown",
   "metadata": {},
   "source": [
    "### **3.  Operazioni su array**\n",
    "Crea un array **a**, 1D (senza digitarlo esplicitamente), e genera due nuovi array **b**, contenente una sottostringa a piacere e **c** che è il reverse dell'array **a** (esempio [1,2,3] diventa [3,2,1]) .  Dividi l'array **a** per l'array **c**. Fai la stessa cosa per una lista."
   ]
  },
  {
   "cell_type": "code",
   "execution_count": null,
   "metadata": {},
   "outputs": [
    {
     "data": {
      "text/plain": [
       "(array([1.        , 0.66666667, 0.5       , 0.5       , 1.25      ,\n",
       "        0.66666667, 7.        , 8.        , 1.8       ]),\n",
       " array([0.11111111, 0.25      , 0.42857143, 0.66666667, 1.        ,\n",
       "        1.5       , 2.33333333, 4.        , 9.        ]))"
      ]
     },
     "execution_count": 18,
     "metadata": {},
     "output_type": "execute_result"
    }
   ],
   "source": [
    "a = np.arange(1,10)\n",
    "b = a[1:5]\n",
    "c = a[::-1]\n",
    "my_list = [1,3,6,8,4,9,1,1,5]\n",
    "a/c, a/my_list"
   ]
  }
 ],
 "metadata": {
  "kernelspec": {
   "display_name": "Python 3",
   "language": "python",
   "name": "python3"
  },
  "language_info": {
   "codemirror_mode": {
    "name": "ipython",
    "version": 3
   },
   "file_extension": ".py",
   "mimetype": "text/x-python",
   "name": "python",
   "nbconvert_exporter": "python",
   "pygments_lexer": "ipython3",
   "version": "3.13.2"
  }
 },
 "nbformat": 4,
 "nbformat_minor": 2
}
