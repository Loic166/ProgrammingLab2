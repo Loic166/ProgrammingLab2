{
 "cells": [
  {
   "cell_type": "markdown",
   "id": "9f44acf0",
   "metadata": {},
   "source": [
    "## 🧩 Niveau 1 : Fondamentaux NumPy"
   ]
  },
  {
   "cell_type": "markdown",
   "id": "3c7d32ef",
   "metadata": {},
   "source": [
    "### Exercice 1 : Création et opérations de base"
   ]
  },
  {
   "cell_type": "code",
   "execution_count": null,
   "id": "c58dcc1c",
   "metadata": {},
   "outputs": [],
   "source": [
    "import numpy as np\n",
    "\n",
    "a = np.array([4, 8, 15, 16, 23, 42])\n",
    "\n",
    "# TODO: Calcule la somme, la moyenne et l'écart-type\n",
    "# TODO: Multiplie tous les éléments par 2\n",
    "# TODO: Sélectionne les éléments supérieurs à 20\n"
   ]
  },
  {
   "cell_type": "markdown",
   "id": "cc2399a6",
   "metadata": {},
   "source": [
    "### Exercice 2 : Indexation & Masquage"
   ]
  },
  {
   "cell_type": "code",
   "execution_count": null,
   "id": "91bd3f23",
   "metadata": {},
   "outputs": [],
   "source": [
    "# TODO: Remplacer les pairs par 0, les impairs par 1\n",
    "b = np.where(a % 2 == 0, 0, 1)\n",
    "print(\"b =\", b)\n"
   ]
  },
  {
   "cell_type": "markdown",
   "id": "f4c5206c",
   "metadata": {},
   "source": [
    "## 🎲 Niveau 2 : Fonctions et Simulation aléatoire"
   ]
  },
  {
   "cell_type": "markdown",
   "id": "c96e0210",
   "metadata": {},
   "source": [
    "### Exercice 3 : Fonction de simulation de dé"
   ]
  },
  {
   "cell_type": "code",
   "execution_count": null,
   "id": "6f36c6d3",
   "metadata": {},
   "outputs": [],
   "source": [
    "def lancer_de(n):\n",
    "    # TODO: Simuler n lancers de dé et compter les occurrences\n",
    "    lancers = np.random.randint(1, 7, size=n)\n",
    "    compte = np.bincount(lancers, minlength=7)[1:]  # on ignore l’indice 0\n",
    "    return compte\n",
    "\n",
    "# Exemple\n",
    "print(\"Résultat :\", lancer_de(20))\n"
   ]
  },
  {
   "cell_type": "markdown",
   "id": "93c6e9ad",
   "metadata": {},
   "source": [
    "### Exercice 4 : Expérience répétée"
   ]
  },
  {
   "cell_type": "code",
   "execution_count": null,
   "id": "fabefcfb",
   "metadata": {},
   "outputs": [],
   "source": [
    "# TODO: Faire varier la taille d'échantillon et stocker les fréquences\n",
    "import matplotlib.pyplot as plt\n",
    "\n",
    "tailles = np.linspace(10, 1000, 100, dtype=int)\n",
    "freqs = []\n",
    "\n",
    "for n in tailles:\n",
    "    lancers = np.random.randint(1, 7, size=n)\n",
    "    counts = np.bincount(lancers, minlength=7)[1:]\n",
    "    freqs.append(counts / n * 100)\n",
    "\n",
    "freqs = np.array(freqs)\n",
    "\n",
    "# Afficher les fréquences moyennes pour les faces 1, 3, 6\n",
    "plt.plot(tailles, freqs[:, 0], label=\"Face 1\")\n",
    "plt.plot(tailles, freqs[:, 2], label=\"Face 3\")\n",
    "plt.plot(tailles, freqs[:, 5], label=\"Face 6\")\n",
    "plt.xlabel(\"Taille de l'échantillon\")\n",
    "plt.ylabel(\"Fréquence (%)\")\n",
    "plt.title(\"Fréquence moyenne des faces 1, 3, 6\")\n",
    "plt.legend()\n",
    "plt.grid(True)\n",
    "plt.show()\n"
   ]
  },
  {
   "cell_type": "markdown",
   "id": "033a2df0",
   "metadata": {},
   "source": [
    "## 📊 Niveau 3 : Visualisation avec matplotlib"
   ]
  },
  {
   "cell_type": "markdown",
   "id": "95692244",
   "metadata": {},
   "source": [
    "### Exercice 5 : Histogramme des fréquences"
   ]
  },
  {
   "cell_type": "code",
   "execution_count": null,
   "id": "03dcd49b",
   "metadata": {},
   "outputs": [],
   "source": [
    "# TODO: Lancer 1000 dés et afficher un histogramme\n",
    "lancers = np.random.randint(1, 7, size=1000)\n",
    "plt.hist(lancers, bins=np.arange(1, 8)-0.5, edgecolor='black', rwidth=0.8)\n",
    "plt.xticks(range(1, 7))\n",
    "plt.xlabel(\"Face du dé\")\n",
    "plt.ylabel(\"Fréquence\")\n",
    "plt.title(\"Histogramme des fréquences pour 1000 lancers de dé\")\n",
    "plt.grid(True)\n",
    "plt.show()\n"
   ]
  },
  {
   "cell_type": "markdown",
   "id": "95733a08",
   "metadata": {},
   "source": [
    "## 🧮 Niveau 4 : Traitement de données NumPy avancé"
   ]
  },
  {
   "cell_type": "markdown",
   "id": "7e964ffa",
   "metadata": {},
   "source": [
    "### Exercice 7 : Réductions conditionnelles"
   ]
  },
  {
   "cell_type": "code",
   "execution_count": null,
   "id": "45027e46",
   "metadata": {},
   "outputs": [],
   "source": [
    "depenses = np.array([3200, 2750, 4100, 3600, 2950, 5100, 4400])\n",
    "nouveau = depenses.copy()\n",
    "nouveau[depenses < 3000] *= 0.85\n",
    "\n",
    "print(\"Dépenses ajustées :\", nouveau)\n",
    "print(\"Économie totale :\", depenses.sum() - nouveau.sum())\n"
   ]
  },
  {
   "cell_type": "markdown",
   "id": "f1df4ec5",
   "metadata": {},
   "source": [
    "## 🔁 Niveau 5 : Fonctions avancées + seed"
   ]
  },
  {
   "cell_type": "markdown",
   "id": "4b8ec8ad",
   "metadata": {},
   "source": [
    "### Exercice 8 : Fonction complète avec seed"
   ]
  },
  {
   "cell_type": "code",
   "execution_count": null,
   "id": "b8b2fe9a",
   "metadata": {},
   "outputs": [],
   "source": [
    "def simuler_jeu(seed, n):\n",
    "    np.random.seed(seed)\n",
    "    lancers = np.random.randint(1, 7, size=n)\n",
    "    return np.bincount(lancers, minlength=7)[1:]\n",
    "\n",
    "print(\"Fréquences avec seed=0 et n=5000 :\", simuler_jeu(0, 5000))\n"
   ]
  }
 ],
 "metadata": {},
 "nbformat": 4,
 "nbformat_minor": 5
}
