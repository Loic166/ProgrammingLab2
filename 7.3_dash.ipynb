{
 "cells": [
  {
   "cell_type": "markdown",
   "metadata": {},
   "source": [
    "## Dash\n",
    "\n",
    "**Dash** è un framework Python sviluppato da Plotly che consente di creare **applicazioni web interattive** per la visualizzazione di dati, in modo semplice e dichiarativo.\n",
    "\n",
    "Dash permette di:\n",
    "- creare dashboard interattive con pochi comandi Python;\n",
    "- aggiornare grafici e componenti dinamicamente con i **callback**;\n",
    "- costruire interfacce complete con **slider, dropdown, input, grafici, tabelle**.\n",
    "\n",
    "\n",
    "Dash è ideale per costruire applicazioni di **data analysis interattiva**, anche in ambito didattico, scientifico o aziendale.\n"
   ]
  },
  {
   "cell_type": "markdown",
   "metadata": {},
   "source": [
    "### Esempio 2 di uno Slider che calcola il quadrato di un numero\n",
    "\n",
    "Facciamo un'interfaccia che mostra uno **slider interattivo** da 1 a 10. Quando l’utente seleziona un numero, l’app visualizza in tempo reale il **quadrato del numero selezionato** (es. `6² = 36`)."
   ]
  },
  {
   "cell_type": "code",
   "execution_count": 1,
   "metadata": {},
   "outputs": [],
   "source": [
    "import dash                      \n",
    "from dash import dcc, html      \n",
    "from dash.dependencies import Input, Output\n",
    "import plotly.express as px     \n",
    "import pandas as pd  \n",
    "\n",
    "# Inizializza app\n",
    "app = dash.Dash(__name__)   # __name__ serve per sapere se il file è eseguito direttamente\n",
    "\n",
    "# Layout dell'applicazione: ciò che l'utente vedrà nel browser\n",
    "app.layout = html.Div([\n",
    "    html.H3(\"Seleziona un numero\"),  # Titolo\n",
    "\n",
    "    # Slider da 1 a 10 con step 1 e valore iniziale 4\n",
    "    dcc.Slider(\n",
    "        id='slider-numero',        # ID del componente (serve per il callback)\n",
    "        min=1,\n",
    "        max=10,\n",
    "        step=1,\n",
    "        value=4,                   # Valore iniziale\n",
    "        marks={i: str(i) for i in range(1, 11)}  # Etichette visibili sullo slider\n",
    "    ),\n",
    "\n",
    "    # Div dove verrà mostrato il risultato (es: \"4² = 16\")\n",
    "    html.Div(id='output-quadrato')\n",
    "])\n",
    "\n",
    "# Callback che collega lo slider all'output testuale\n",
    "@app.callback(\n",
    "    Output('output-quadrato', 'children'),       # Dove mostrare il risultato\n",
    "    Input('slider-numero', 'value')              # Quando cambia il valore dello slider\n",
    ")\n",
    "def calcola_quadrato(valore):\n",
    "    # Calcola il quadrato del numero selezionato e restituisce la stringa da visualizzare\n",
    "    return f\"{valore}² = {valore**2}\"\n"
   ]
  },
  {
   "cell_type": "markdown",
   "metadata": {},
   "source": [
    "### Funzionamento:\n",
    "1. L’utente sposta lo slider.\n",
    "2. Il callback `calcola_quadrato` riceve il numero scelto come input.\n",
    "3. Calcola il quadrato (`valore ** 2`) e restituisce una stringa.\n",
    "4. Il risultato viene mostrato nella pagina."
   ]
  },
  {
   "cell_type": "code",
   "execution_count": 2,
   "metadata": {},
   "outputs": [
    {
     "data": {
      "text/html": [
       "\n",
       "        <iframe\n",
       "            width=\"100%\"\n",
       "            height=\"650\"\n",
       "            src=\"http://127.0.0.1:8050/\"\n",
       "            frameborder=\"0\"\n",
       "            allowfullscreen\n",
       "            \n",
       "        ></iframe>\n",
       "        "
      ],
      "text/plain": [
       "<IPython.lib.display.IFrame at 0x20bb6762270>"
      ]
     },
     "metadata": {},
     "output_type": "display_data"
    }
   ],
   "source": [
    "# Avvia il server web se il file viene eseguito direttamente\n",
    "if __name__ == '__main__':\n",
    "    app.run(debug=True)"
   ]
  },
  {
   "cell_type": "markdown",
   "metadata": {},
   "source": [
    "### Esempio 2 \n",
    "Facciamo un'interfaccia che visualizzi un **grafico a dispersione (scatter plot)** delle misure dei petali di fiori (dataset Iris), e che permetta all’utente di **selezionare una specie** da un menu a tendina. Il grafico si aggiorna automaticamente con i dati della specie scelta."
   ]
  },
  {
   "cell_type": "code",
   "execution_count": 3,
   "metadata": {},
   "outputs": [],
   "source": [
    "# Caricamento dataset di esempio (Iris)\n",
    "df = px.data.iris() \n",
    "\n",
    "# Crea l'applicazione Dash\n",
    "app = dash.Dash(__name__)  # __name__ serve per sapere se il file è eseguito direttamente\n",
    "\n",
    "# Layout dell'app: definisce cosa l'utente vede\n",
    "app.layout = html.Div([\n",
    "    html.H2(\"Iris Dataset Scatter Plot\"),  # Titolo\n",
    "\n",
    "    # Menu a tendina per selezionare la specie\n",
    "    dcc.Dropdown(\n",
    "        id='species-dropdown',  # ID usato per il callback\n",
    "        options=[{'label': s, 'value': s} for s in df['species'].unique()],  # Una voce per specie\n",
    "        value='setosa'  # Valore iniziale\n",
    "    ),\n",
    "\n",
    "    # Area dove sarà visualizzato il grafico\n",
    "    dcc.Graph(id='scatter-plot')\n",
    "])"
   ]
  },
  {
   "cell_type": "code",
   "execution_count": 4,
   "metadata": {},
   "outputs": [],
   "source": [
    "# Callback: funzione che aggiorna il grafico quando cambia la selezione, \n",
    "# quindi collega la selezione del dropdown al grafico aggiornato.\n",
    "@app.callback(\n",
    "    dash.dependencies.Output('scatter-plot', 'figure'),  # Output: grafico da aggiornare\n",
    "    [dash.dependencies.Input('species-dropdown', 'value')]  # Input: specie selezionata\n",
    ")\n",
    "def update_figure(species):\n",
    "    # Filtra il DataFrame per la specie scelta\n",
    "    filtered_df = df[df['species'] == species]\n",
    "\n",
    "    # Crea uno scatter plot con i dati filtrati\n",
    "    return px.scatter(\n",
    "        filtered_df,\n",
    "        x=\"sepal_width\",    # Asse X: larghezza sepalo\n",
    "        y=\"sepal_length\",   # Asse Y: lunghezza sepalo\n",
    "        color=\"species\"     # Colore diverso per ogni specie (anche se è solo una)\n",
    "    )"
   ]
  },
  {
   "cell_type": "markdown",
   "metadata": {},
   "source": [
    "### Funzionamento:\n",
    "1. L’utente seleziona una specie dal menu.\n",
    "2. Il callback `update_figure` riceve il valore scelto.\n",
    "3. Il dataframe viene filtrato in base alla specie.\n",
    "4. Il grafico viene ridisegnato con solo i dati filtrati."
   ]
  },
  {
   "cell_type": "code",
   "execution_count": 5,
   "metadata": {},
   "outputs": [
    {
     "ename": "ObsoleteAttributeException",
     "evalue": "app.run_server has been replaced by app.run",
     "output_type": "error",
     "traceback": [
      "\u001b[31m---------------------------------------------------------------------------\u001b[39m",
      "\u001b[31mObsoleteAttributeException\u001b[39m                Traceback (most recent call last)",
      "\u001b[36mCell\u001b[39m\u001b[36m \u001b[39m\u001b[32mIn[5]\u001b[39m\u001b[32m, line 4\u001b[39m\n\u001b[32m      1\u001b[39m \u001b[38;5;66;03m# Avvio del server Dash\u001b[39;00m\n\u001b[32m      2\u001b[39m \u001b[38;5;28;01mif\u001b[39;00m \u001b[34m__name__\u001b[39m == \u001b[33m'\u001b[39m\u001b[33m__main__\u001b[39m\u001b[33m'\u001b[39m:\n\u001b[32m      3\u001b[39m     \u001b[38;5;66;03m# Avvia il server sulla porta 8050, accessibile da http://127.0.0.1:8050\u001b[39;00m\n\u001b[32m----> \u001b[39m\u001b[32m4\u001b[39m     \u001b[43mapp\u001b[49m\u001b[43m.\u001b[49m\u001b[43mrun_server\u001b[49m(debug=\u001b[38;5;28;01mTrue\u001b[39;00m)\n",
      "\u001b[36mFile \u001b[39m\u001b[32mc:\\Users\\kasse\\AppData\\Local\\Programs\\Python\\Python313\\Lib\\site-packages\\dash\\_obsolete.py:22\u001b[39m, in \u001b[36mObsoleteChecker.__getattr__\u001b[39m\u001b[34m(self, name)\u001b[39m\n\u001b[32m     20\u001b[39m \u001b[38;5;28;01mif\u001b[39;00m name \u001b[38;5;129;01min\u001b[39;00m \u001b[38;5;28mself\u001b[39m._obsolete_attributes:\n\u001b[32m     21\u001b[39m     err = \u001b[38;5;28mself\u001b[39m._obsolete_attributes[name]\n\u001b[32m---> \u001b[39m\u001b[32m22\u001b[39m     \u001b[38;5;28;01mraise\u001b[39;00m err.exc(err.message)\n\u001b[32m     23\u001b[39m \u001b[38;5;28;01mreturn\u001b[39;00m \u001b[38;5;28mgetattr\u001b[39m(\u001b[38;5;28mself\u001b[39m.\u001b[34m__dict__\u001b[39m, name)\n",
      "\u001b[31mObsoleteAttributeException\u001b[39m: app.run_server has been replaced by app.run"
     ]
    }
   ],
   "source": [
    "# Avvio del server Dash\n",
    "if __name__ == '__main__':\n",
    "    # Avvia il server sulla porta 8050, accessibile da http://127.0.0.1:8050\n",
    "    app.run_server(debug=True)"
   ]
  },
  {
   "cell_type": "markdown",
   "metadata": {},
   "source": []
  },
  {
   "cell_type": "code",
   "execution_count": null,
   "metadata": {},
   "outputs": [
    {
     "data": {
      "text/html": [
       "\n",
       "        <iframe\n",
       "            width=\"100%\"\n",
       "            height=\"650\"\n",
       "            src=\"http://127.0.0.1:8050/\"\n",
       "            frameborder=\"0\"\n",
       "            allowfullscreen\n",
       "            \n",
       "        ></iframe>\n",
       "        "
      ],
      "text/plain": [
       "<IPython.lib.display.IFrame at 0x20d03d44050>"
      ]
     },
     "metadata": {},
     "output_type": "display_data"
    }
   ],
   "source": [
    "import dash\n",
    "from dash import html\n",
    "\n",
    "app = dash.Dash(__name__)\n",
    "\n",
    "app.layout = html.Div([\n",
    "    html.H1(\"Titre principal\"),\n",
    "    html.P(\"Voici un paragraphe.p\"),\n",
    "    html.P(\"wp4jtpjrèrjèj\"),\n",
    "    html.P(\"wp4jtpjrèrjèj\"),\n",
    "    html.Button(\"Clique-moi\", id=\"btn\")\n",
    "])\n",
    "\n",
    "if __name__ == \"__main__\":\n",
    "    app.run(debug=True)\n"
   ]
  },
  {
   "cell_type": "code",
   "execution_count": null,
   "metadata": {},
   "outputs": [
    {
     "data": {
      "text/html": [
       "\n",
       "        <iframe\n",
       "            width=\"100%\"\n",
       "            height=\"650\"\n",
       "            src=\"http://127.0.0.1:8050/\"\n",
       "            frameborder=\"0\"\n",
       "            allowfullscreen\n",
       "            \n",
       "        ></iframe>\n",
       "        "
      ],
      "text/plain": [
       "<IPython.lib.display.IFrame at 0x20d03b57650>"
      ]
     },
     "metadata": {},
     "output_type": "display_data"
    }
   ],
   "source": [
    "import dash\n",
    "from dash import html, dcc\n",
    "import plotly.express as px\n",
    "\n",
    "app = dash.Dash(__name__)\n",
    "\n",
    "df = px.data.iris()\n",
    "fig = px.scatter(df, x=\"sepal_width\", y=\"sepal_length\", color=\"species\")\n",
    "\n",
    "app.layout = html.Div([\n",
    "    html.H2(\"Graphique interactif\"),\n",
    "    dcc.Graph(id='mon-graph', figure=fig)\n",
    "])\n",
    "\n",
    "if __name__ == \"__main__\":\n",
    "    app.run(debug=True)\n"
   ]
  },
  {
   "cell_type": "code",
   "execution_count": 8,
   "metadata": {},
   "outputs": [
    {
     "data": {
      "text/html": [
       "\n",
       "        <iframe\n",
       "            width=\"100%\"\n",
       "            height=\"650\"\n",
       "            src=\"http://127.0.0.1:8050/\"\n",
       "            frameborder=\"0\"\n",
       "            allowfullscreen\n",
       "            \n",
       "        ></iframe>\n",
       "        "
      ],
      "text/plain": [
       "<IPython.lib.display.IFrame at 0x20bb6747d90>"
      ]
     },
     "metadata": {},
     "output_type": "display_data"
    }
   ],
   "source": [
    "import dash_bootstrap_components as dbc\n",
    "\n",
    "app = dash.Dash(__name__, external_stylesheets=[dbc.themes.BOOTSTRAP])\n",
    "\n",
    "app.layout = dbc.Container([\n",
    "    dbc.Row([\n",
    "        dbc.Col(html.Div(\"Colonne 1\"), width=6),\n",
    "        dbc.Col(html.Div(\"Colonne 2\"), width=6),\n",
    "    ])\n",
    "])\n",
    "\n",
    "\n",
    "if __name__ == '__main__':\n",
    "    app.run(debug=True)\n",
    "\n"
   ]
  },
  {
   "cell_type": "code",
   "execution_count": null,
   "metadata": {},
   "outputs": [
    {
     "name": "stdout",
     "output_type": "stream",
     "text": [
      "Collecting dash-bootstrap-components\n",
      "  Downloading dash_bootstrap_components-2.0.3-py3-none-any.whl.metadata (18 kB)\n",
      "Requirement already satisfied: dash>=3.0.4 in c:\\users\\kasse\\appdata\\local\\programs\\python\\python313\\lib\\site-packages (from dash-bootstrap-components) (3.1.1)\n",
      "Requirement already satisfied: Flask<3.2,>=1.0.4 in c:\\users\\kasse\\appdata\\local\\programs\\python\\python313\\lib\\site-packages (from dash>=3.0.4->dash-bootstrap-components) (3.1.1)\n",
      "Requirement already satisfied: Werkzeug<3.2 in c:\\users\\kasse\\appdata\\local\\programs\\python\\python313\\lib\\site-packages (from dash>=3.0.4->dash-bootstrap-components) (3.1.3)\n",
      "Requirement already satisfied: plotly>=5.0.0 in c:\\users\\kasse\\appdata\\local\\programs\\python\\python313\\lib\\site-packages (from dash>=3.0.4->dash-bootstrap-components) (6.2.0)\n",
      "Requirement already satisfied: importlib-metadata in c:\\users\\kasse\\appdata\\local\\programs\\python\\python313\\lib\\site-packages (from dash>=3.0.4->dash-bootstrap-components) (8.7.0)\n",
      "Requirement already satisfied: typing-extensions>=4.1.1 in c:\\users\\kasse\\appdata\\local\\programs\\python\\python313\\lib\\site-packages (from dash>=3.0.4->dash-bootstrap-components) (4.13.1)\n",
      "Requirement already satisfied: requests in c:\\users\\kasse\\appdata\\local\\programs\\python\\python313\\lib\\site-packages (from dash>=3.0.4->dash-bootstrap-components) (2.32.3)\n",
      "Requirement already satisfied: retrying in c:\\users\\kasse\\appdata\\local\\programs\\python\\python313\\lib\\site-packages (from dash>=3.0.4->dash-bootstrap-components) (1.4.1)\n",
      "Requirement already satisfied: nest-asyncio in c:\\users\\kasse\\appdata\\roaming\\python\\python313\\site-packages (from dash>=3.0.4->dash-bootstrap-components) (1.6.0)\n",
      "Requirement already satisfied: setuptools in c:\\users\\kasse\\appdata\\local\\programs\\python\\python313\\lib\\site-packages (from dash>=3.0.4->dash-bootstrap-components) (80.9.0)\n",
      "Requirement already satisfied: blinker>=1.9.0 in c:\\users\\kasse\\appdata\\local\\programs\\python\\python313\\lib\\site-packages (from Flask<3.2,>=1.0.4->dash>=3.0.4->dash-bootstrap-components) (1.9.0)\n",
      "Requirement already satisfied: click>=8.1.3 in c:\\users\\kasse\\appdata\\local\\programs\\python\\python313\\lib\\site-packages (from Flask<3.2,>=1.0.4->dash>=3.0.4->dash-bootstrap-components) (8.2.1)\n",
      "Requirement already satisfied: itsdangerous>=2.2.0 in c:\\users\\kasse\\appdata\\local\\programs\\python\\python313\\lib\\site-packages (from Flask<3.2,>=1.0.4->dash>=3.0.4->dash-bootstrap-components) (2.2.0)\n",
      "Requirement already satisfied: jinja2>=3.1.2 in c:\\users\\kasse\\appdata\\local\\programs\\python\\python313\\lib\\site-packages (from Flask<3.2,>=1.0.4->dash>=3.0.4->dash-bootstrap-components) (3.1.6)\n",
      "Requirement already satisfied: markupsafe>=2.1.1 in c:\\users\\kasse\\appdata\\local\\programs\\python\\python313\\lib\\site-packages (from Flask<3.2,>=1.0.4->dash>=3.0.4->dash-bootstrap-components) (3.0.2)\n",
      "Requirement already satisfied: colorama in c:\\users\\kasse\\appdata\\roaming\\python\\python313\\site-packages (from click>=8.1.3->Flask<3.2,>=1.0.4->dash>=3.0.4->dash-bootstrap-components) (0.4.6)\n",
      "Requirement already satisfied: narwhals>=1.15.1 in c:\\users\\kasse\\appdata\\local\\programs\\python\\python313\\lib\\site-packages (from plotly>=5.0.0->dash>=3.0.4->dash-bootstrap-components) (1.47.1)\n",
      "Requirement already satisfied: packaging in c:\\users\\kasse\\appdata\\roaming\\python\\python313\\site-packages (from plotly>=5.0.0->dash>=3.0.4->dash-bootstrap-components) (24.2)\n",
      "Requirement already satisfied: zipp>=3.20 in c:\\users\\kasse\\appdata\\local\\programs\\python\\python313\\lib\\site-packages (from importlib-metadata->dash>=3.0.4->dash-bootstrap-components) (3.23.0)\n",
      "Requirement already satisfied: charset-normalizer<4,>=2 in c:\\users\\kasse\\appdata\\local\\programs\\python\\python313\\lib\\site-packages (from requests->dash>=3.0.4->dash-bootstrap-components) (3.4.1)\n",
      "Requirement already satisfied: idna<4,>=2.5 in c:\\users\\kasse\\appdata\\local\\programs\\python\\python313\\lib\\site-packages (from requests->dash>=3.0.4->dash-bootstrap-components) (3.10)\n",
      "Requirement already satisfied: urllib3<3,>=1.21.1 in c:\\users\\kasse\\appdata\\local\\programs\\python\\python313\\lib\\site-packages (from requests->dash>=3.0.4->dash-bootstrap-components) (2.3.0)\n",
      "Requirement already satisfied: certifi>=2017.4.17 in c:\\users\\kasse\\appdata\\local\\programs\\python\\python313\\lib\\site-packages (from requests->dash>=3.0.4->dash-bootstrap-components) (2025.1.31)\n",
      "Downloading dash_bootstrap_components-2.0.3-py3-none-any.whl (203 kB)\n",
      "Installing collected packages: dash-bootstrap-components\n",
      "Successfully installed dash-bootstrap-components-2.0.3\n",
      "Note: you may need to restart the kernel to use updated packages.\n"
     ]
    },
    {
     "name": "stderr",
     "output_type": "stream",
     "text": [
      "WARNING: Retrying (Retry(total=4, connect=None, read=None, redirect=None, status=None)) after connection broken by 'ProtocolError('Connection aborted.', ConnectionResetError(10054, \"Connessione in corso interrotta forzatamente dall'host remoto\", None, 10054, None))': /simple/dash-bootstrap-components/\n"
     ]
    }
   ],
   "source": []
  }
 ],
 "metadata": {
  "kernelspec": {
   "display_name": "Python 3",
   "language": "python",
   "name": "python3"
  },
  "language_info": {
   "codemirror_mode": {
    "name": "ipython",
    "version": 3
   },
   "file_extension": ".py",
   "mimetype": "text/x-python",
   "name": "python",
   "nbconvert_exporter": "python",
   "pygments_lexer": "ipython3",
   "version": "3.13.2"
  }
 },
 "nbformat": 4,
 "nbformat_minor": 2
}
